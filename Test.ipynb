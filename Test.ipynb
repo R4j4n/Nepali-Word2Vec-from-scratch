{
 "cells": [
  {
   "cell_type": "code",
   "execution_count": 1,
   "metadata": {},
   "outputs": [
    {
     "data": {
      "text/plain": [
       "[('मनोरञ्जन', 0.7557299733161926),\n",
       " ('मजा', 0.66391921043396),\n",
       " ('मज्जा', 0.6295955777168274),\n",
       " ('आम्तसन्तुष्टि', 0.6150055527687073),\n",
       " ('मनोरंजन', 0.584694504737854),\n",
       " ('विश्राम', 0.5715169310569763),\n",
       " ('प्रवज्या', 0.5609654188156128),\n",
       " ('सन्न्यास', 0.5532158613204956),\n",
       " ('नभन्नू', 0.5427237749099731),\n",
       " ('थाप्नेआशिर्वाद', 0.5276983380317688)]"
      ]
     },
     "execution_count": 1,
     "metadata": {},
     "output_type": "execute_result"
    }
   ],
   "source": [
    "from gensim.models import Word2Vec\n",
    "model_W2V = Word2Vec.load(\"nepaliW2V_5Million.model\")\n",
    "model_W2V.wv.most_similar('मनोरन्जन')"
   ]
  },
  {
   "cell_type": "code",
   "execution_count": 3,
   "metadata": {},
   "outputs": [
    {
     "name": "stdout",
     "output_type": "stream",
     "text": [
      "289961 200\n"
     ]
    }
   ],
   "source": [
    "w2v_weights = model_W2V.wv.vectors\n",
    "vocab_size, embedding_size = w2v_weights.shape\n",
    "print(f\"{vocab_size} {embedding_size}\")"
   ]
  },
  {
   "cell_type": "code",
   "execution_count": null,
   "metadata": {},
   "outputs": [],
   "source": []
  }
 ],
 "metadata": {
  "interpreter": {
   "hash": "3aa7e0968cd811e75d5c8d96d5fe2c56f12de0ced5d5b45be6850097aa03144d"
  },
  "kernelspec": {
   "display_name": "Python 3.8.0 64-bit ('tf_2.4': conda)",
   "name": "python3"
  },
  "language_info": {
   "codemirror_mode": {
    "name": "ipython",
    "version": 3
   },
   "file_extension": ".py",
   "mimetype": "text/x-python",
   "name": "python",
   "nbconvert_exporter": "python",
   "pygments_lexer": "ipython3",
   "version": "3.8.0"
  },
  "orig_nbformat": 4
 },
 "nbformat": 4,
 "nbformat_minor": 2
}
